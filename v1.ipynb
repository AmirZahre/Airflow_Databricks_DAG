{
 "cells": [
  {
   "cell_type": "code",
   "execution_count": 2,
   "id": "6e72c2ef-23bc-445a-b6ef-05ff3c2802fa",
   "metadata": {},
   "outputs": [],
   "source": [
    "# https://docs.google.com/document/d/1e9oakyEftdHp4zGz2F0WP-_X7GEzEKYGaPvu1SguuCE/edit\n",
    "\n",
    "import pandas as pd\n",
    "import numpy as np\n",
    "import matplotlib as plt\n",
    "\n",
    "# https://pypi.org/project/yfinance/#description\n",
    "import yfinance as yf\n",
    "\n",
    "pd.set_option('display.max_columns', 100)\n",
    "pd.set_option('display.width', 100)"
   ]
  },
  {
   "cell_type": "code",
   "execution_count": 3,
   "id": "ce9697c2-ff2d-416d-8a8a-798308aef566",
   "metadata": {},
   "outputs": [
    {
     "name": "stdout",
     "output_type": "stream",
     "text": [
      "[*********************100%***********************]  5 of 5 completed\n"
     ]
    }
   ],
   "source": [
    "portfolio = ['MSFT', 'AAPL', 'IBM', 'WMT', 'SHOP']\n",
    "df = yf.download(portfolio,'2022-1-1') # Pulling the daily closing stock price for the aforementioned stocks from the start of 2022-onwards."
   ]
  },
  {
   "cell_type": "code",
   "execution_count": 4,
   "id": "4b1bbb75-15c7-4e1e-a256-b0a8feca269f",
   "metadata": {},
   "outputs": [
    {
     "name": "stdout",
     "output_type": "stream",
     "text": [
      "             Adj Close                                                       Close              \\\n",
      "                  AAPL         IBM        MSFT        SHOP         WMT        AAPL         IBM   \n",
      "Date                                                                                             \n",
      "2022-02-17  168.880005  124.970001  290.730011  660.000000  138.880005  168.880005  124.970001   \n",
      "2022-02-18  167.300003  124.349998  287.929993  656.880005  137.990005  167.300003  124.349998   \n",
      "2022-02-22  164.320007  123.919998  287.720001  626.159973  136.449997  164.320007  123.919998   \n",
      "2022-02-23  160.070007  122.070000  280.269989  626.609985  135.050003  160.070007  122.070000   \n",
      "2022-02-24  155.929993  120.089996  278.489197  611.114990  133.029999  155.929993  120.089996   \n",
      "\n",
      "                                                      High                                      \\\n",
      "                  MSFT        SHOP         WMT        AAPL         IBM        MSFT        SHOP   \n",
      "Date                                                                                             \n",
      "2022-02-17  290.730011  660.000000  138.880005  171.910004  128.500000  296.799988  732.239990   \n",
      "2022-02-18  287.929993  656.880005  137.990005  170.539993  125.440002  293.859985  683.479980   \n",
      "2022-02-22  287.720001  626.159973  136.449997  166.690002  125.000000  291.540009  661.989990   \n",
      "2022-02-23  280.269989  626.609985  135.050003  166.149994  124.699997  291.700012  659.900024   \n",
      "2022-02-24  278.489197  611.114990  133.029999  156.910004  120.260002  279.345001  621.580017   \n",
      "\n",
      "                               Low                                                        Open  \\\n",
      "                   WMT        AAPL         IBM        MSFT        SHOP         WMT        AAPL   \n",
      "Date                                                                                             \n",
      "2022-02-17  139.470001  168.470001  124.849998  290.000000  655.000000  133.779999  171.029999   \n",
      "2022-02-18  139.589996  166.190002  123.610001  286.309998  640.419983  137.160004  169.820007   \n",
      "2022-02-22  138.240005  162.149994  122.680000  284.500000  624.270020  135.940002  164.979996   \n",
      "2022-02-23  137.190002  159.750000  121.870003  280.100006  625.020020  134.839996  165.539993   \n",
      "2022-02-24  134.914993  152.000000  118.809998  271.519989  585.510010  132.910004  152.580002   \n",
      "\n",
      "                                                              Volume                              \\\n",
      "                   IBM        MSFT        SHOP         WMT      AAPL      IBM      MSFT     SHOP   \n",
      "Date                                                                                               \n",
      "2022-02-17  128.050003  296.359985  727.119995  134.000000  69589300  6797000  32461600  7050500   \n",
      "2022-02-18  124.940002  293.049988  662.780029  138.100006  82614200  4607600  34223200  3965800   \n",
      "2022-02-22  124.199997  285.000000  632.030029  137.770004  91162800  5349700  41736100  3156500   \n",
      "2022-02-23  124.379997  290.179993  634.799988  136.860001  89511200  4084500  37670600  2420600   \n",
      "2022-02-24  120.000000  272.510010  585.030029  133.910004  39212329  1200072  12259548  1042535   \n",
      "\n",
      "                      \n",
      "                 WMT  \n",
      "Date                  \n",
      "2022-02-17  17943800  \n",
      "2022-02-18  10364700  \n",
      "2022-02-22   8460300  \n",
      "2022-02-23   7007600  \n",
      "2022-02-24   1711492  \n"
     ]
    }
   ],
   "source": [
    "print(df.tail())"
   ]
  },
  {
   "cell_type": "markdown",
   "id": "a5fe8102-c80f-4944-86f8-10bf568a357b",
   "metadata": {},
   "source": [
    "### Portfolio of 5 stocks is now present. Data is daily changes, from the start of the year, and contains 6 features.\n",
    "\n",
    "# Transformations:"
   ]
  },
  {
   "cell_type": "markdown",
   "id": "beea2361-acad-4701-9f2a-952ec351b5a3",
   "metadata": {},
   "source": [
    "### Transform 1: Group by industry\n",
    "\n",
    "Calculate:\n",
    "* Market value per industry (dollar amount) for the day\n",
    "* % change of market value from previous day for each industry\n",
    "\n",
    "(market value = adjusted close * volume)"
   ]
  },
  {
   "cell_type": "code",
   "execution_count": null,
   "id": "15a4a2ef-dd3f-46ed-aab0-c6f6583ab826",
   "metadata": {},
   "outputs": [],
   "source": [
    "def aggregate_stock(ticker):\n",
    "    "
   ]
  },
  {
   "cell_type": "code",
   "execution_count": 18,
   "id": "259ba20d-6aad-4d0d-a44c-c3e58be6fe55",
   "metadata": {},
   "outputs": [],
   "source": [
    "a = yf.Ticker(\"MSFT\").info"
   ]
  },
  {
   "cell_type": "code",
   "execution_count": 21,
   "id": "8a0794c1-e4dd-4980-af64-d30f6f011da3",
   "metadata": {},
   "outputs": [
    {
     "data": {
      "text/plain": [
       "'Technology'"
      ]
     },
     "execution_count": 21,
     "metadata": {},
     "output_type": "execute_result"
    }
   ],
   "source": [
    "a['sector']"
   ]
  },
  {
   "cell_type": "code",
   "execution_count": 40,
   "id": "0dfde1c5-37ec-4cbd-aed6-6139d28a2dd3",
   "metadata": {},
   "outputs": [
    {
     "name": "stdout",
     "output_type": "stream",
     "text": [
      "[*********************100%***********************]  5 of 5 completed\n",
      "             Adj Close                                                       Close              \\\n",
      "                  AAPL         IBM        MSFT        SHOP         WMT        AAPL         IBM   \n",
      "Date                                                                                             \n",
      "2022-02-17  168.880005  124.970001  290.730011  660.000000  138.880005  168.880005  124.970001   \n",
      "2022-02-18  167.300003  124.349998  287.929993  656.880005  137.990005  167.300003  124.349998   \n",
      "2022-02-22  164.320007  123.919998  287.720001  626.159973  136.449997  164.320007  123.919998   \n",
      "2022-02-23  160.070007  122.070000  280.269989  626.609985  135.050003  160.070007  122.070000   \n",
      "2022-02-24  158.229996  119.919800  285.480011  649.359985  133.330002  158.229996  119.919800   \n",
      "\n",
      "                                                      High                                      \\\n",
      "                  MSFT        SHOP         WMT        AAPL         IBM        MSFT        SHOP   \n",
      "Date                                                                                             \n",
      "2022-02-17  290.730011  660.000000  138.880005  171.910004  128.500000  296.799988  732.239990   \n",
      "2022-02-18  287.929993  656.880005  137.990005  170.539993  125.440002  293.859985  683.479980   \n",
      "2022-02-22  287.720001  626.159973  136.449997  166.690002  125.000000  291.540009  661.989990   \n",
      "2022-02-23  280.269989  626.609985  135.050003  166.149994  124.699997  291.700012  659.900024   \n",
      "2022-02-24  285.480011  649.359985  133.330002  158.679993  120.680000  286.470001  654.530029   \n",
      "\n",
      "                               Low                                                        Open  \\\n",
      "                   WMT        AAPL         IBM        MSFT        SHOP         WMT        AAPL   \n",
      "Date                                                                                             \n",
      "2022-02-17  139.470001  168.470001  124.849998  290.000000  655.000000  133.779999  171.029999   \n",
      "2022-02-18  139.589996  166.190002  123.610001  286.309998  640.419983  137.160004  169.820007   \n",
      "2022-02-22  138.240005  162.149994  122.680000  284.500000  624.270020  135.940002  164.979996   \n",
      "2022-02-23  137.190002  159.750000  121.870003  280.100006  625.020020  134.839996  165.539993   \n",
      "2022-02-24  134.914993  152.000000  118.809998  271.519989  585.510010  132.820007  152.580002   \n",
      "\n",
      "                                                              Volume                              \\\n",
      "                   IBM        MSFT        SHOP         WMT      AAPL      IBM      MSFT     SHOP   \n",
      "Date                                                                                               \n",
      "2022-02-17  128.050003  296.359985  727.119995  134.000000  69589300  6797000  32461600  7050500   \n",
      "2022-02-18  124.940002  293.049988  662.780029  138.100006  82614200  4607600  34223200  3965800   \n",
      "2022-02-22  124.199997  285.000000  632.030029  137.770004  91162800  5349700  41736100  3156500   \n",
      "2022-02-23  124.379997  290.179993  634.799988  136.860001  89511200  4084500  37670600  2420600   \n",
      "2022-02-24  120.000000  272.510010  585.030029  133.910004  64632554  2284416  21318829  1979844   \n",
      "\n",
      "                      \n",
      "                 WMT  \n",
      "Date                  \n",
      "2022-02-17  17943800  \n",
      "2022-02-18  10364700  \n",
      "2022-02-22   8460300  \n",
      "2022-02-23   7007600  \n",
      "2022-02-24   3293791  \n"
     ]
    }
   ],
   "source": [
    "def pull_data(tickers):\n",
    "    df = yf.download(tickers,'2022-2-1')\n",
    "    # for ticker in tickers:\n",
    "    #     sector = yf.Ticker(ticker).info['sector']\n",
    "        \n",
    "    print(df.tail())\n",
    "    \n",
    "pull_data(portfolio)"
   ]
  },
  {
   "cell_type": "code",
   "execution_count": 85,
   "id": "02ff3ecb-95ed-4656-84a3-d9337699ee18",
   "metadata": {},
   "outputs": [
    {
     "name": "stdout",
     "output_type": "stream",
     "text": [
      "[*********************100%***********************]  5 of 5 completed\n"
     ]
    }
   ],
   "source": [
    "df = yf.download(portfolio,'2022-2-1', group_by='Ticker')\n",
    "df = df.stack(level=0).rename_axis(['Date', 'Ticker']).reset_index(level=1) # Trenton McKinney, https://stackoverflow.com/questions/63107594/how-to-deal-with-multi-level-column-names-downloaded-with-yfinance/63107801#63107801"
   ]
  },
  {
   "cell_type": "code",
   "execution_count": 86,
   "id": "02445124-0daa-48ba-9429-29fac226f552",
   "metadata": {},
   "outputs": [
    {
     "data": {
      "text/html": [
       "<div>\n",
       "<style scoped>\n",
       "    .dataframe tbody tr th:only-of-type {\n",
       "        vertical-align: middle;\n",
       "    }\n",
       "\n",
       "    .dataframe tbody tr th {\n",
       "        vertical-align: top;\n",
       "    }\n",
       "\n",
       "    .dataframe thead th {\n",
       "        text-align: right;\n",
       "    }\n",
       "</style>\n",
       "<table border=\"1\" class=\"dataframe\">\n",
       "  <thead>\n",
       "    <tr style=\"text-align: right;\">\n",
       "      <th></th>\n",
       "      <th>Ticker</th>\n",
       "      <th>Adj Close</th>\n",
       "      <th>Close</th>\n",
       "      <th>High</th>\n",
       "      <th>Low</th>\n",
       "      <th>Open</th>\n",
       "      <th>Volume</th>\n",
       "    </tr>\n",
       "    <tr>\n",
       "      <th>Date</th>\n",
       "      <th></th>\n",
       "      <th></th>\n",
       "      <th></th>\n",
       "      <th></th>\n",
       "      <th></th>\n",
       "      <th></th>\n",
       "      <th></th>\n",
       "    </tr>\n",
       "  </thead>\n",
       "  <tbody>\n",
       "    <tr>\n",
       "      <th>2022-02-01</th>\n",
       "      <td>AAPL</td>\n",
       "      <td>174.387817</td>\n",
       "      <td>174.610001</td>\n",
       "      <td>174.839996</td>\n",
       "      <td>172.309998</td>\n",
       "      <td>174.009995</td>\n",
       "      <td>86213900</td>\n",
       "    </tr>\n",
       "    <tr>\n",
       "      <th>2022-02-01</th>\n",
       "      <td>IBM</td>\n",
       "      <td>133.916901</td>\n",
       "      <td>135.529999</td>\n",
       "      <td>135.960007</td>\n",
       "      <td>132.500000</td>\n",
       "      <td>133.759995</td>\n",
       "      <td>6206400</td>\n",
       "    </tr>\n",
       "    <tr>\n",
       "      <th>2022-02-01</th>\n",
       "      <td>MSFT</td>\n",
       "      <td>308.122894</td>\n",
       "      <td>308.760010</td>\n",
       "      <td>310.630005</td>\n",
       "      <td>305.130005</td>\n",
       "      <td>310.410004</td>\n",
       "      <td>40950400</td>\n",
       "    </tr>\n",
       "    <tr>\n",
       "      <th>2022-02-01</th>\n",
       "      <td>SHOP</td>\n",
       "      <td>984.200012</td>\n",
       "      <td>984.200012</td>\n",
       "      <td>988.500000</td>\n",
       "      <td>937.851013</td>\n",
       "      <td>984.299988</td>\n",
       "      <td>1752100</td>\n",
       "    </tr>\n",
       "    <tr>\n",
       "      <th>2022-02-01</th>\n",
       "      <td>WMT</td>\n",
       "      <td>140.910004</td>\n",
       "      <td>140.910004</td>\n",
       "      <td>141.149994</td>\n",
       "      <td>138.990005</td>\n",
       "      <td>139.210007</td>\n",
       "      <td>6774400</td>\n",
       "    </tr>\n",
       "    <tr>\n",
       "      <th>...</th>\n",
       "      <td>...</td>\n",
       "      <td>...</td>\n",
       "      <td>...</td>\n",
       "      <td>...</td>\n",
       "      <td>...</td>\n",
       "      <td>...</td>\n",
       "      <td>...</td>\n",
       "    </tr>\n",
       "    <tr>\n",
       "      <th>2022-02-24</th>\n",
       "      <td>AAPL</td>\n",
       "      <td>157.860001</td>\n",
       "      <td>157.860001</td>\n",
       "      <td>158.679993</td>\n",
       "      <td>152.000000</td>\n",
       "      <td>152.580002</td>\n",
       "      <td>67915733</td>\n",
       "    </tr>\n",
       "    <tr>\n",
       "      <th>2022-02-24</th>\n",
       "      <td>IBM</td>\n",
       "      <td>119.790001</td>\n",
       "      <td>119.790001</td>\n",
       "      <td>120.680000</td>\n",
       "      <td>118.809998</td>\n",
       "      <td>120.000000</td>\n",
       "      <td>2456964</td>\n",
       "    </tr>\n",
       "    <tr>\n",
       "      <th>2022-02-24</th>\n",
       "      <td>MSFT</td>\n",
       "      <td>284.510010</td>\n",
       "      <td>284.510010</td>\n",
       "      <td>286.470001</td>\n",
       "      <td>271.519989</td>\n",
       "      <td>272.510010</td>\n",
       "      <td>22905435</td>\n",
       "    </tr>\n",
       "    <tr>\n",
       "      <th>2022-02-24</th>\n",
       "      <td>SHOP</td>\n",
       "      <td>641.979980</td>\n",
       "      <td>641.979980</td>\n",
       "      <td>654.530029</td>\n",
       "      <td>585.510010</td>\n",
       "      <td>585.030029</td>\n",
       "      <td>2068976</td>\n",
       "    </tr>\n",
       "    <tr>\n",
       "      <th>2022-02-24</th>\n",
       "      <td>WMT</td>\n",
       "      <td>132.879700</td>\n",
       "      <td>132.879700</td>\n",
       "      <td>134.914993</td>\n",
       "      <td>132.820007</td>\n",
       "      <td>133.910004</td>\n",
       "      <td>3547347</td>\n",
       "    </tr>\n",
       "  </tbody>\n",
       "</table>\n",
       "<p>85 rows × 7 columns</p>\n",
       "</div>"
      ],
      "text/plain": [
       "           Ticker   Adj Close       Close        High         Low        Open    Volume\n",
       "Date                                                                                   \n",
       "2022-02-01   AAPL  174.387817  174.610001  174.839996  172.309998  174.009995  86213900\n",
       "2022-02-01    IBM  133.916901  135.529999  135.960007  132.500000  133.759995   6206400\n",
       "2022-02-01   MSFT  308.122894  308.760010  310.630005  305.130005  310.410004  40950400\n",
       "2022-02-01   SHOP  984.200012  984.200012  988.500000  937.851013  984.299988   1752100\n",
       "2022-02-01    WMT  140.910004  140.910004  141.149994  138.990005  139.210007   6774400\n",
       "...           ...         ...         ...         ...         ...         ...       ...\n",
       "2022-02-24   AAPL  157.860001  157.860001  158.679993  152.000000  152.580002  67915733\n",
       "2022-02-24    IBM  119.790001  119.790001  120.680000  118.809998  120.000000   2456964\n",
       "2022-02-24   MSFT  284.510010  284.510010  286.470001  271.519989  272.510010  22905435\n",
       "2022-02-24   SHOP  641.979980  641.979980  654.530029  585.510010  585.030029   2068976\n",
       "2022-02-24    WMT  132.879700  132.879700  134.914993  132.820007  133.910004   3547347\n",
       "\n",
       "[85 rows x 7 columns]"
      ]
     },
     "execution_count": 86,
     "metadata": {},
     "output_type": "execute_result"
    }
   ],
   "source": [
    "df"
   ]
  },
  {
   "cell_type": "markdown",
   "id": "4f05d457-869d-4ad0-8b78-c6228ca7d316",
   "metadata": {},
   "source": [
    "### Pull industry for each ticker (for eventual aggregation)"
   ]
  },
  {
   "cell_type": "code",
   "execution_count": 84,
   "id": "560e26e9-2233-45de-8221-5a3b472dd3d1",
   "metadata": {},
   "outputs": [
    {
     "data": {
      "text/html": [
       "<div>\n",
       "<style scoped>\n",
       "    .dataframe tbody tr th:only-of-type {\n",
       "        vertical-align: middle;\n",
       "    }\n",
       "\n",
       "    .dataframe tbody tr th {\n",
       "        vertical-align: top;\n",
       "    }\n",
       "\n",
       "    .dataframe thead th {\n",
       "        text-align: right;\n",
       "    }\n",
       "</style>\n",
       "<table border=\"1\" class=\"dataframe\">\n",
       "  <thead>\n",
       "    <tr style=\"text-align: right;\">\n",
       "      <th></th>\n",
       "      <th>Ticker</th>\n",
       "      <th>Industry</th>\n",
       "    </tr>\n",
       "  </thead>\n",
       "  <tbody>\n",
       "    <tr>\n",
       "      <th>0</th>\n",
       "      <td>MSFT</td>\n",
       "      <td>Technology</td>\n",
       "    </tr>\n",
       "    <tr>\n",
       "      <th>1</th>\n",
       "      <td>AAPL</td>\n",
       "      <td>Technology</td>\n",
       "    </tr>\n",
       "    <tr>\n",
       "      <th>2</th>\n",
       "      <td>IBM</td>\n",
       "      <td>Technology</td>\n",
       "    </tr>\n",
       "    <tr>\n",
       "      <th>3</th>\n",
       "      <td>WMT</td>\n",
       "      <td>Consumer Defensive</td>\n",
       "    </tr>\n",
       "    <tr>\n",
       "      <th>4</th>\n",
       "      <td>SHOP</td>\n",
       "      <td>Technology</td>\n",
       "    </tr>\n",
       "  </tbody>\n",
       "</table>\n",
       "</div>"
      ],
      "text/plain": [
       "  Ticker            Industry\n",
       "0   MSFT          Technology\n",
       "1   AAPL          Technology\n",
       "2    IBM          Technology\n",
       "3    WMT  Consumer Defensive\n",
       "4   SHOP          Technology"
      ]
     },
     "execution_count": 84,
     "metadata": {},
     "output_type": "execute_result"
    }
   ],
   "source": [
    "portfolio = ['MSFT', 'AAPL', 'IBM', 'WMT', 'SHOP']\n",
    "portfolio_df = pd.DataFrame(portfolio).rename(columns={0: 'Ticker'})\n",
    "portfolio_df['Industry'] = portfolio_df.Ticker.apply(lambda x: yf.Ticker(x).info['sector'])\n",
    "portfolio_df"
   ]
  },
  {
   "cell_type": "code",
   "execution_count": null,
   "id": "ecbed6c6-cc1d-4650-85ae-4b91705977cc",
   "metadata": {},
   "outputs": [],
   "source": []
  },
  {
   "cell_type": "code",
   "execution_count": null,
   "id": "52da16ab-c7e7-4830-a8a6-bda7ba789adf",
   "metadata": {},
   "outputs": [],
   "source": []
  },
  {
   "cell_type": "code",
   "execution_count": null,
   "id": "4228d77f-5583-46ac-80a4-27fbe556e609",
   "metadata": {},
   "outputs": [],
   "source": []
  },
  {
   "cell_type": "code",
   "execution_count": null,
   "id": "3d225405-e066-427a-b34f-a88c39a72478",
   "metadata": {},
   "outputs": [],
   "source": []
  },
  {
   "cell_type": "code",
   "execution_count": null,
   "id": "6a9bd09c-c933-4651-a9a9-5af82f3d26eb",
   "metadata": {},
   "outputs": [],
   "source": []
  },
  {
   "cell_type": "markdown",
   "id": "e3c140a6-d856-4d77-a3c6-ed9e1486f1f2",
   "metadata": {},
   "source": [
    "### Transform 1: % change of previous day close price vs current day close price"
   ]
  },
  {
   "cell_type": "code",
   "execution_count": 8,
   "id": "c22be1e9-90eb-42a3-aa08-4209890dd905",
   "metadata": {},
   "outputs": [
    {
     "data": {
      "text/plain": [
       "AAPL   -0.025864\n",
       "IBM    -0.016220\n",
       "MSFT   -0.006354\n",
       "SHOP   -0.024728\n",
       "WMT    -0.014957\n",
       "Name: 2022-02-24 00:00:00, dtype: float64"
      ]
     },
     "execution_count": 8,
     "metadata": {},
     "output_type": "execute_result"
    }
   ],
   "source": [
    "# Below we'll calculate the percent change of Adj Close price for each stock and, if the price change for one exceeds a predermined threshold, an email notification will be sent out.\n",
    "last_two_days = df['Adj Close'].iloc[-2:].pct_change()\n",
    "percent_change = last_two_days.iloc[-1]\n",
    "percent_change"
   ]
  },
  {
   "cell_type": "markdown",
   "id": "da28bf7d-a554-4365-85c9-bb2bfeb94c0a",
   "metadata": {},
   "source": [
    "### Transform 1: % change of previous day close price vs current day close price"
   ]
  },
  {
   "cell_type": "code",
   "execution_count": null,
   "id": "b8ceed34-7a83-4888-a617-c75ca603617d",
   "metadata": {},
   "outputs": [],
   "source": []
  },
  {
   "cell_type": "code",
   "execution_count": null,
   "id": "d2f81020-2994-492e-8516-110ae051d9a6",
   "metadata": {},
   "outputs": [],
   "source": []
  },
  {
   "cell_type": "code",
   "execution_count": null,
   "id": "f5157bd1-0d49-4dc7-8a6c-cd114c2a95c1",
   "metadata": {},
   "outputs": [],
   "source": []
  },
  {
   "cell_type": "code",
   "execution_count": null,
   "id": "b97bcc56-f3ea-428f-ac36-17bbbff51ae4",
   "metadata": {},
   "outputs": [],
   "source": []
  }
 ],
 "metadata": {
  "kernelspec": {
   "display_name": "Python 3 (ipykernel)",
   "language": "python",
   "name": "python3"
  },
  "language_info": {
   "codemirror_mode": {
    "name": "ipython",
    "version": 3
   },
   "file_extension": ".py",
   "mimetype": "text/x-python",
   "name": "python",
   "nbconvert_exporter": "python",
   "pygments_lexer": "ipython3",
   "version": "3.9.7"
  }
 },
 "nbformat": 4,
 "nbformat_minor": 5
}
