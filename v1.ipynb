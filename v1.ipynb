{
 "cells": [
  {
   "cell_type": "code",
   "execution_count": 19,
   "id": "6e72c2ef-23bc-445a-b6ef-05ff3c2802fa",
   "metadata": {},
   "outputs": [],
   "source": [
    "# https://docs.google.com/document/d/1e9oakyEftdHp4zGz2F0WP-_X7GEzEKYGaPvu1SguuCE/edit\n",
    "\n",
    "import pandas as pd\n",
    "import numpy as np\n",
    "import matplotlib as plt\n",
    "from datetime import datetime\n",
    "from datetime import date as dt\n",
    "from datetime import timedelta as td\n",
    "\n",
    "\n",
    "\n",
    "# https://pypi.org/project/yfinance/#description\n",
    "import yfinance as yf\n",
    "\n",
    "pd.set_option('display.max_columns', 100)\n",
    "pd.set_option('display.width', 100)"
   ]
  },
  {
   "cell_type": "markdown",
   "id": "beea2361-acad-4701-9f2a-952ec351b5a3",
   "metadata": {},
   "source": [
    "# Transformations:\n",
    "\n",
    "### Transform 1: Group by industry\n",
    "\n",
    "Calculate:\n",
    "* Market value per industry (dollar amount) for the day\n",
    "* % change of market value from previous day for each industry\n",
    "\n",
    "(market value = adjusted close * volume)"
   ]
  },
  {
   "cell_type": "code",
   "execution_count": 2,
   "id": "0dfde1c5-37ec-4cbd-aed6-6139d28a2dd3",
   "metadata": {},
   "outputs": [],
   "source": [
    "portfolio2 = ['MSFT', 'AAPL', 'IBM', 'WMT', 'SHOP', 'LWLG', 'ALB', 'LYV', 'GOOGL', 'TTGT', 'TSLA', 'GME', 'AMZN', 'TGT', 'COST', 'COKE','TPL', 'BX', 'MORN', 'CBRE', \n",
    "            'NVDA', 'AMD', 'NEE']\n",
    "portfolio = ['MSFT', 'AAPL'] # reduced portfolio to make python quicker (pre prod)"
   ]
  },
  {
   "cell_type": "markdown",
   "id": "4f05d457-869d-4ad0-8b78-c6228ca7d316",
   "metadata": {},
   "source": [
    "### Pull industry for each ticker (for eventual aggregation) as well as current market cap (updates daily)"
   ]
  },
  {
   "cell_type": "code",
   "execution_count": 3,
   "id": "eda5d830-3913-4d1e-a15f-1e5ae4742e4e",
   "metadata": {},
   "outputs": [
    {
     "name": "stdout",
     "output_type": "stream",
     "text": [
      "CPU times: user 768 ms, sys: 76 ms, total: 844 ms\n",
      "Wall time: 8.25 s\n"
     ]
    },
    {
     "data": {
      "text/plain": [
       "{'MSFT': ['25/02/2022', 'Technology', 2228894302208],\n",
       " 'AAPL': ['25/02/2022', 'Technology', 2690253062144]}"
      ]
     },
     "execution_count": 3,
     "metadata": {},
     "output_type": "execute_result"
    }
   ],
   "source": [
    "%%time\n",
    "\n",
    "# today's date\n",
    "today = dt.today().strftime(\"%d/%m/%Y\")\n",
    "\n",
    "# hash the entirety of the api call data for each stock\n",
    "company_info = {i: yf.Ticker(i).info for i in portfolio}\n",
    "\n",
    "# pull the respective data we'd like from the hash (instead of calling the api twice for each stock)\n",
    "industry_cap_dict = {i: [today, company_info[i]['sector'], company_info[i]['marketCap']] for i in portfolio}\n",
    "    \n",
    "\n",
    "industry_cap_dict"
   ]
  },
  {
   "cell_type": "code",
   "execution_count": 4,
   "id": "8a401a7f-370b-40d4-abe7-080b2beabedf",
   "metadata": {},
   "outputs": [],
   "source": [
    "# transform dictionary into dataframe\n",
    "industry_cap_df = pd.DataFrame.from_dict(industry_cap_dict,orient='index')\n",
    "\n",
    "# add the stock tickers, currently in index, to a column named 'company'\n",
    "industry_cap_df.insert(1, 'company', industry_cap_df.index)\n",
    "\n",
    "# move the 'date' column to the index\n",
    "industry_cap_df.index = industry_cap_df.iloc[:,0]\n",
    "\n",
    "# drop the 'date' column\n",
    "industry_cap_df.drop(industry_cap_df.columns[0], axis=1, inplace=True)\n",
    "\n",
    "# remove the title for the index column\n",
    "industry_cap_df.index.name = None\n",
    "\n",
    "# rename the remaining columns\n",
    "pd.DataFrame(industry_cap_df).rename(columns={1: 'sector', 2: 'market_cap'}, inplace=True)"
   ]
  },
  {
   "cell_type": "code",
   "execution_count": null,
   "id": "83b775de-1c27-4436-b0d8-e6f17971a067",
   "metadata": {},
   "outputs": [],
   "source": []
  },
  {
   "cell_type": "markdown",
   "id": "d9978a5d-ee2e-4586-870c-196326c49a99",
   "metadata": {},
   "source": [
    "# Data to be used for metrics (market cap by industry)"
   ]
  },
  {
   "cell_type": "code",
   "execution_count": 5,
   "id": "35c6aeee-f1ab-46eb-9982-25ea5593e0d5",
   "metadata": {},
   "outputs": [
    {
     "data": {
      "text/html": [
       "<div>\n",
       "<style scoped>\n",
       "    .dataframe tbody tr th:only-of-type {\n",
       "        vertical-align: middle;\n",
       "    }\n",
       "\n",
       "    .dataframe tbody tr th {\n",
       "        vertical-align: top;\n",
       "    }\n",
       "\n",
       "    .dataframe thead th {\n",
       "        text-align: right;\n",
       "    }\n",
       "</style>\n",
       "<table border=\"1\" class=\"dataframe\">\n",
       "  <thead>\n",
       "    <tr style=\"text-align: right;\">\n",
       "      <th></th>\n",
       "      <th>market_cap</th>\n",
       "    </tr>\n",
       "    <tr>\n",
       "      <th>sector</th>\n",
       "      <th></th>\n",
       "    </tr>\n",
       "  </thead>\n",
       "  <tbody>\n",
       "    <tr>\n",
       "      <th>Technology</th>\n",
       "      <td>4919147364352</td>\n",
       "    </tr>\n",
       "  </tbody>\n",
       "</table>\n",
       "</div>"
      ],
      "text/plain": [
       "               market_cap\n",
       "sector                   \n",
       "Technology  4919147364352"
      ]
     },
     "execution_count": 5,
     "metadata": {},
     "output_type": "execute_result"
    }
   ],
   "source": [
    "industry_agg = industry_cap_df.groupby(['sector']).sum()\n",
    "industry_agg"
   ]
  },
  {
   "cell_type": "code",
   "execution_count": null,
   "id": "192d93bf-2610-4259-9935-82a060f1df96",
   "metadata": {},
   "outputs": [],
   "source": []
  },
  {
   "cell_type": "markdown",
   "id": "d5226efa-cc1f-4d4b-8bdd-07569a9786ba",
   "metadata": {},
   "source": [
    "# Data to be used for notification purposes"
   ]
  },
  {
   "cell_type": "code",
   "execution_count": 58,
   "id": "9688d27e-4464-4603-ace1-e9b0d0d06664",
   "metadata": {},
   "outputs": [
    {
     "name": "stdout",
     "output_type": "stream",
     "text": [
      "[*********************100%***********************]  2 of 2 completed\n"
     ]
    },
    {
     "data": {
      "text/html": [
       "<div>\n",
       "<style scoped>\n",
       "    .dataframe tbody tr th:only-of-type {\n",
       "        vertical-align: middle;\n",
       "    }\n",
       "\n",
       "    .dataframe tbody tr th {\n",
       "        vertical-align: top;\n",
       "    }\n",
       "\n",
       "    .dataframe thead th {\n",
       "        text-align: right;\n",
       "    }\n",
       "</style>\n",
       "<table border=\"1\" class=\"dataframe\">\n",
       "  <thead>\n",
       "    <tr style=\"text-align: right;\">\n",
       "      <th></th>\n",
       "      <th>Ticker</th>\n",
       "      <th>Adj Close</th>\n",
       "    </tr>\n",
       "    <tr>\n",
       "      <th>Date</th>\n",
       "      <th></th>\n",
       "      <th></th>\n",
       "    </tr>\n",
       "  </thead>\n",
       "  <tbody>\n",
       "    <tr>\n",
       "      <th>2022-02-24</th>\n",
       "      <td>AAPL</td>\n",
       "      <td>162.740005</td>\n",
       "    </tr>\n",
       "    <tr>\n",
       "      <th>2022-02-24</th>\n",
       "      <td>MSFT</td>\n",
       "      <td>294.589996</td>\n",
       "    </tr>\n",
       "    <tr>\n",
       "      <th>2022-02-25</th>\n",
       "      <td>AAPL</td>\n",
       "      <td>164.850006</td>\n",
       "    </tr>\n",
       "    <tr>\n",
       "      <th>2022-02-25</th>\n",
       "      <td>MSFT</td>\n",
       "      <td>297.309998</td>\n",
       "    </tr>\n",
       "  </tbody>\n",
       "</table>\n",
       "</div>"
      ],
      "text/plain": [
       "           Ticker   Adj Close\n",
       "Date                         \n",
       "2022-02-24   AAPL  162.740005\n",
       "2022-02-24   MSFT  294.589996\n",
       "2022-02-25   AAPL  164.850006\n",
       "2022-02-25   MSFT  297.309998"
      ]
     },
     "execution_count": 58,
     "metadata": {},
     "output_type": "execute_result"
    }
   ],
   "source": [
    "# set date to yesterday\n",
    "yesterday = datetime.now() - td(1)\n",
    "yesterday = datetime.strftime(yesterday, '%Y-%m-%d')\n",
    "\n",
    "\n",
    "\n",
    "financial_info_df = yf.download(portfolio, yesterday, group_by='Ticker')\n",
    "financial_info_df = financial_info_df.stack(level=0).rename_axis(['Date', 'Ticker']).reset_index(level=1) # Trenton McKinney, https://stackoverflow.com/questions/63107594/how-to-deal-with-multi-level-column-names-downloaded-with-yfinance/63107801#63107801\n",
    "financial_info_df = financial_info_df[['Ticker','Adj Close']]\n",
    "financial_info_df"
   ]
  },
  {
   "cell_type": "code",
   "execution_count": 64,
   "id": "06c73df8-1623-43cc-8d36-2da20c41ccef",
   "metadata": {},
   "outputs": [
    {
     "data": {
      "text/html": [
       "<div>\n",
       "<style scoped>\n",
       "    .dataframe tbody tr th:only-of-type {\n",
       "        vertical-align: middle;\n",
       "    }\n",
       "\n",
       "    .dataframe tbody tr th {\n",
       "        vertical-align: top;\n",
       "    }\n",
       "\n",
       "    .dataframe thead th {\n",
       "        text-align: right;\n",
       "    }\n",
       "</style>\n",
       "<table border=\"1\" class=\"dataframe\">\n",
       "  <thead>\n",
       "    <tr style=\"text-align: right;\">\n",
       "      <th></th>\n",
       "      <th>Ticker</th>\n",
       "      <th>Adj Close</th>\n",
       "    </tr>\n",
       "    <tr>\n",
       "      <th>Date</th>\n",
       "      <th></th>\n",
       "      <th></th>\n",
       "    </tr>\n",
       "  </thead>\n",
       "  <tbody>\n",
       "    <tr>\n",
       "      <th>2022-02-24</th>\n",
       "      <td>AAPL</td>\n",
       "      <td>162.740005</td>\n",
       "    </tr>\n",
       "    <tr>\n",
       "      <th>2022-02-25</th>\n",
       "      <td>AAPL</td>\n",
       "      <td>164.850006</td>\n",
       "    </tr>\n",
       "    <tr>\n",
       "      <th>2022-02-24</th>\n",
       "      <td>MSFT</td>\n",
       "      <td>294.589996</td>\n",
       "    </tr>\n",
       "    <tr>\n",
       "      <th>2022-02-25</th>\n",
       "      <td>MSFT</td>\n",
       "      <td>297.309998</td>\n",
       "    </tr>\n",
       "  </tbody>\n",
       "</table>\n",
       "</div>"
      ],
      "text/plain": [
       "           Ticker   Adj Close\n",
       "Date                         \n",
       "2022-02-24   AAPL  162.740005\n",
       "2022-02-25   AAPL  164.850006\n",
       "2022-02-24   MSFT  294.589996\n",
       "2022-02-25   MSFT  297.309998"
      ]
     },
     "execution_count": 64,
     "metadata": {},
     "output_type": "execute_result"
    }
   ],
   "source": [
    "a = financial_info_df.sort_values(by=['Ticker'])\n",
    "a"
   ]
  },
  {
   "cell_type": "code",
   "execution_count": 84,
   "id": "34bf0fae-2c4e-46c8-a83b-e9f6ca4bf567",
   "metadata": {},
   "outputs": [
    {
     "name": "stdout",
     "output_type": "stream",
     "text": [
      "CPU times: user 1.27 ms, sys: 0 ns, total: 1.27 ms\n",
      "Wall time: 1.25 ms\n"
     ]
    }
   ],
   "source": [
    "%%time\n",
    "#create unique list of names\n",
    "UniqueNames = portfolio\n",
    "\n",
    "#create a data frame dictionary to store your data frames\n",
    "DataFrameDict = {elem : pd.DataFrame for elem in UniqueNames}\n",
    "\n",
    "for key in DataFrameDict.keys():\n",
    "    DataFrameDict[key] = financial_info_df[:][financial_info_df.Ticker == key]"
   ]
  },
  {
   "cell_type": "code",
   "execution_count": 90,
   "id": "35e7c6f0-004b-4574-a632-9fd068af40d0",
   "metadata": {},
   "outputs": [
    {
     "name": "stdout",
     "output_type": "stream",
     "text": [
      "25/02/2022 AAPL 0.012965469700934706\n"
     ]
    }
   ],
   "source": [
    "for stock in portfolio:\n",
    "    DataFrameDict[stock]['percent_change'] = DataFrameDict[stock]['Adj Close'].pct_change()\n",
    "    \n",
    "    # set notification for threshold\n",
    "    # if greater than 1%\n",
    "    if DataFrameDict[stock]['percent_change'][-1] > 0.01:\n",
    "        print(today, stock, DataFrameDict[stock]['percent_change'][-1])"
   ]
  },
  {
   "cell_type": "code",
   "execution_count": null,
   "id": "c7d89f77-2d54-484b-b67d-e6e91efcc208",
   "metadata": {},
   "outputs": [],
   "source": []
  },
  {
   "cell_type": "code",
   "execution_count": null,
   "id": "7a0584a6-bb1f-4ca4-81c4-f0359ee8d314",
   "metadata": {},
   "outputs": [],
   "source": []
  }
 ],
 "metadata": {
  "kernelspec": {
   "display_name": "Python 3 (ipykernel)",
   "language": "python",
   "name": "python3"
  },
  "language_info": {
   "codemirror_mode": {
    "name": "ipython",
    "version": 3
   },
   "file_extension": ".py",
   "mimetype": "text/x-python",
   "name": "python",
   "nbconvert_exporter": "python",
   "pygments_lexer": "ipython3",
   "version": "3.9.7"
  }
 },
 "nbformat": 4,
 "nbformat_minor": 5
}
