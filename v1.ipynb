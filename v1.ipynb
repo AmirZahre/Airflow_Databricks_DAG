{
 "cells": [
  {
   "cell_type": "code",
   "execution_count": 1,
   "id": "6e72c2ef-23bc-445a-b6ef-05ff3c2802fa",
   "metadata": {},
   "outputs": [],
   "source": [
    "# https://docs.google.com/document/d/1e9oakyEftdHp4zGz2F0WP-_X7GEzEKYGaPvu1SguuCE/edit\n",
    "\n",
    "import pandas as pd\n",
    "import numpy as np\n",
    "import matplotlib as plt\n",
    "from datetime import datetime\n",
    "from datetime import date as dt\n",
    "from datetime import timedelta as td\n",
    "\n",
    "\n",
    "\n",
    "# https://pypi.org/project/yfinance/#description\n",
    "import yfinance as yf\n",
    "\n",
    "pd.set_option('display.max_columns', 100)\n",
    "pd.set_option('display.width', 100)"
   ]
  },
  {
   "cell_type": "markdown",
   "id": "beea2361-acad-4701-9f2a-952ec351b5a3",
   "metadata": {},
   "source": [
    "# Transformations:\n",
    "\n",
    "### Transform 1: Group by industry\n",
    "\n",
    "Calculate:\n",
    "* Market value per industry (dollar amount) for the day\n",
    "* % change of market value from previous day for each industry\n",
    "\n",
    "(market value = adjusted close * volume)"
   ]
  },
  {
   "cell_type": "code",
   "execution_count": 2,
   "id": "0dfde1c5-37ec-4cbd-aed6-6139d28a2dd3",
   "metadata": {},
   "outputs": [],
   "source": [
    "portfolio2 = ['MSFT', 'AAPL', 'IBM', 'WMT', 'SHOP', 'LWLG', 'ALB', 'LYV', 'GOOGL', 'TTGT', 'TSLA', 'GME', 'AMZN', 'TGT', 'COST', 'COKE','TPL', 'BX', 'MORN', 'CBRE', \n",
    "            'NVDA', 'AMD', 'NEE']\n",
    "portfolio = ['MSFT', 'WMT', 'IBM', 'WMT', 'SHOP'] # reduced portfolio to make script quicker (pre prod, less api calls)"
   ]
  },
  {
   "cell_type": "markdown",
   "id": "4f05d457-869d-4ad0-8b78-c6228ca7d316",
   "metadata": {},
   "source": [
    "### Pull industry for each ticker (for eventual aggregation) as well as current market cap (updates daily)"
   ]
  },
  {
   "cell_type": "code",
   "execution_count": 3,
   "id": "eda5d830-3913-4d1e-a15f-1e5ae4742e4e",
   "metadata": {},
   "outputs": [
    {
     "name": "stdout",
     "output_type": "stream",
     "text": [
      "CPU times: user 1.88 s, sys: 85.1 ms, total: 1.97 s\n",
      "Wall time: 21.9 s\n"
     ]
    },
    {
     "data": {
      "text/plain": [
       "{'MSFT': ['01/03/2022', 'Technology', 2212687511552],\n",
       " 'WMT': ['01/03/2022', 'Consumer Defensive', 376432754688],\n",
       " 'IBM': ['01/03/2022', 'Technology', 108634701824],\n",
       " 'SHOP': ['01/03/2022', 'Technology', 86003597312]}"
      ]
     },
     "execution_count": 3,
     "metadata": {},
     "output_type": "execute_result"
    }
   ],
   "source": [
    "%%time\n",
    "\n",
    "# today's date\n",
    "today = dt.today().strftime(\"%d/%m/%Y\")\n",
    "\n",
    "# hash the entirety of the api call data for each stock\n",
    "company_info = {i: yf.Ticker(i).info for i in portfolio}\n",
    "\n",
    "# pull the respective data we'd like from the hash (instead of calling the api twice for each stock)\n",
    "industry_cap_dict = {i: [today, company_info[i]['sector'], company_info[i]['marketCap']] for i in portfolio}\n",
    "    \n",
    "\n",
    "industry_cap_dict"
   ]
  },
  {
   "cell_type": "code",
   "execution_count": 4,
   "id": "8a401a7f-370b-40d4-abe7-080b2beabedf",
   "metadata": {},
   "outputs": [],
   "source": [
    "# transform dictionary into dataframe\n",
    "industry_cap_df = pd.DataFrame.from_dict(industry_cap_dict,orient='index')\n",
    "\n",
    "# add the stock tickers, currently in index, to a column named 'company'\n",
    "industry_cap_df.insert(1, 'company', industry_cap_df.index)\n",
    "\n",
    "# move the 'date' column to the index\n",
    "industry_cap_df.index = industry_cap_df.iloc[:,0]\n",
    "\n",
    "# drop the 'date' column\n",
    "industry_cap_df.drop(industry_cap_df.columns[0], axis=1, inplace=True)\n",
    "\n",
    "# remove the title for the index column\n",
    "industry_cap_df.index.name = None\n",
    "\n",
    "# rename the remaining columns\n",
    "pd.DataFrame(industry_cap_df).rename(columns={1: 'sector', 2: 'market_cap'}, inplace=True)"
   ]
  },
  {
   "cell_type": "code",
   "execution_count": null,
   "id": "83b775de-1c27-4436-b0d8-e6f17971a067",
   "metadata": {},
   "outputs": [],
   "source": []
  },
  {
   "cell_type": "markdown",
   "id": "d9978a5d-ee2e-4586-870c-196326c49a99",
   "metadata": {},
   "source": [
    "# Data to be used for metrics (market cap by industry)"
   ]
  },
  {
   "cell_type": "code",
   "execution_count": 5,
   "id": "35c6aeee-f1ab-46eb-9982-25ea5593e0d5",
   "metadata": {},
   "outputs": [
    {
     "data": {
      "text/html": [
       "<div>\n",
       "<style scoped>\n",
       "    .dataframe tbody tr th:only-of-type {\n",
       "        vertical-align: middle;\n",
       "    }\n",
       "\n",
       "    .dataframe tbody tr th {\n",
       "        vertical-align: top;\n",
       "    }\n",
       "\n",
       "    .dataframe thead th {\n",
       "        text-align: right;\n",
       "    }\n",
       "</style>\n",
       "<table border=\"1\" class=\"dataframe\">\n",
       "  <thead>\n",
       "    <tr style=\"text-align: right;\">\n",
       "      <th></th>\n",
       "      <th>market_cap</th>\n",
       "    </tr>\n",
       "    <tr>\n",
       "      <th>sector</th>\n",
       "      <th></th>\n",
       "    </tr>\n",
       "  </thead>\n",
       "  <tbody>\n",
       "    <tr>\n",
       "      <th>Consumer Defensive</th>\n",
       "      <td>376432754688</td>\n",
       "    </tr>\n",
       "    <tr>\n",
       "      <th>Technology</th>\n",
       "      <td>2407325810688</td>\n",
       "    </tr>\n",
       "  </tbody>\n",
       "</table>\n",
       "</div>"
      ],
      "text/plain": [
       "                       market_cap\n",
       "sector                           \n",
       "Consumer Defensive   376432754688\n",
       "Technology          2407325810688"
      ]
     },
     "execution_count": 5,
     "metadata": {},
     "output_type": "execute_result"
    }
   ],
   "source": [
    "industry_agg = industry_cap_df.groupby(['sector']).sum()\n",
    "industry_agg"
   ]
  },
  {
   "cell_type": "code",
   "execution_count": null,
   "id": "192d93bf-2610-4259-9935-82a060f1df96",
   "metadata": {},
   "outputs": [],
   "source": []
  },
  {
   "cell_type": "markdown",
   "id": "d5226efa-cc1f-4d4b-8bdd-07569a9786ba",
   "metadata": {},
   "source": [
    "# Data to be used for notification purposes"
   ]
  },
  {
   "cell_type": "code",
   "execution_count": 6,
   "id": "9688d27e-4464-4603-ace1-e9b0d0d06664",
   "metadata": {},
   "outputs": [],
   "source": [
    "# # set date to yesterday\n",
    "# yesterday = datetime.now() - td(1)\n",
    "# yesterday = datetime.strftime(yesterday, '%Y-%m-%d')\n",
    "\n",
    "# financial_info_df = yf.download(portfolio, yesterday, group_by='Ticker')\n",
    "# financial_info_df = financial_info_df.stack(level=0).rename_axis(['Date', 'Ticker']).reset_index(level=1) # Trenton McKinney, https://stackoverflow.com/questions/63107594/how-to-deal-with-multi-level-column-names-downloaded-with-yfinance/63107801#63107801\n",
    "# financial_info_df = financial_info_df[['Ticker','Adj Close']]\n",
    "# financial_info_df"
   ]
  },
  {
   "cell_type": "code",
   "execution_count": 7,
   "id": "b902bdf8-b0fb-4984-9de0-d2c0179997b0",
   "metadata": {},
   "outputs": [
    {
     "name": "stdout",
     "output_type": "stream",
     "text": [
      "[*********************100%***********************]  4 of 4 completed\n"
     ]
    },
    {
     "data": {
      "text/html": [
       "<div>\n",
       "<style scoped>\n",
       "    .dataframe tbody tr th:only-of-type {\n",
       "        vertical-align: middle;\n",
       "    }\n",
       "\n",
       "    .dataframe tbody tr th {\n",
       "        vertical-align: top;\n",
       "    }\n",
       "\n",
       "    .dataframe thead th {\n",
       "        text-align: right;\n",
       "    }\n",
       "</style>\n",
       "<table border=\"1\" class=\"dataframe\">\n",
       "  <thead>\n",
       "    <tr style=\"text-align: right;\">\n",
       "      <th></th>\n",
       "      <th>Ticker</th>\n",
       "      <th>Adj Close</th>\n",
       "    </tr>\n",
       "    <tr>\n",
       "      <th>Date</th>\n",
       "      <th></th>\n",
       "      <th></th>\n",
       "    </tr>\n",
       "  </thead>\n",
       "  <tbody>\n",
       "    <tr>\n",
       "      <th>2022-02-25</th>\n",
       "      <td>SHOP</td>\n",
       "      <td>676.950012</td>\n",
       "    </tr>\n",
       "    <tr>\n",
       "      <th>2022-02-25</th>\n",
       "      <td>WMT</td>\n",
       "      <td>136.380005</td>\n",
       "    </tr>\n",
       "    <tr>\n",
       "      <th>2022-02-28</th>\n",
       "      <td>IBM</td>\n",
       "      <td>122.510002</td>\n",
       "    </tr>\n",
       "    <tr>\n",
       "      <th>2022-02-28</th>\n",
       "      <td>MSFT</td>\n",
       "      <td>298.790009</td>\n",
       "    </tr>\n",
       "    <tr>\n",
       "      <th>2022-02-28</th>\n",
       "      <td>SHOP</td>\n",
       "      <td>694.260010</td>\n",
       "    </tr>\n",
       "    <tr>\n",
       "      <th>2022-02-28</th>\n",
       "      <td>WMT</td>\n",
       "      <td>135.160004</td>\n",
       "    </tr>\n",
       "    <tr>\n",
       "      <th>2022-03-01</th>\n",
       "      <td>IBM</td>\n",
       "      <td>121.080002</td>\n",
       "    </tr>\n",
       "    <tr>\n",
       "      <th>2022-03-01</th>\n",
       "      <td>MSFT</td>\n",
       "      <td>295.109985</td>\n",
       "    </tr>\n",
       "    <tr>\n",
       "      <th>2022-03-01</th>\n",
       "      <td>SHOP</td>\n",
       "      <td>687.270020</td>\n",
       "    </tr>\n",
       "    <tr>\n",
       "      <th>2022-03-01</th>\n",
       "      <td>WMT</td>\n",
       "      <td>135.706207</td>\n",
       "    </tr>\n",
       "  </tbody>\n",
       "</table>\n",
       "</div>"
      ],
      "text/plain": [
       "           Ticker   Adj Close\n",
       "Date                         \n",
       "2022-02-25   SHOP  676.950012\n",
       "2022-02-25    WMT  136.380005\n",
       "2022-02-28    IBM  122.510002\n",
       "2022-02-28   MSFT  298.790009\n",
       "2022-02-28   SHOP  694.260010\n",
       "2022-02-28    WMT  135.160004\n",
       "2022-03-01    IBM  121.080002\n",
       "2022-03-01   MSFT  295.109985\n",
       "2022-03-01   SHOP  687.270020\n",
       "2022-03-01    WMT  135.706207"
      ]
     },
     "execution_count": 7,
     "metadata": {},
     "output_type": "execute_result"
    }
   ],
   "source": [
    "# set date to yesterday\n",
    "yesterday = datetime.now() - td(4)\n",
    "yesterday = datetime.strftime(yesterday, '%Y-%m-%d')\n",
    "\n",
    "financial_info_df = yf.download(portfolio, yesterday, group_by='Ticker')\n",
    "financial_info_df = financial_info_df.stack(level=0).rename_axis(['Date', 'Ticker']).reset_index(level=1) # Trenton McKinney, https://stackoverflow.com/questions/63107594/how-to-deal-with-multi-level-column-names-downloaded-with-yfinance/63107801#63107801\n",
    "financial_info_df = financial_info_df[['Ticker','Adj Close']]\n",
    "\n",
    "# last two business days for each stock\n",
    "x = len(portfolio) * 2\n",
    "financial_info_df = financial_info_df[-x:]\n",
    "\n",
    "financial_info_df"
   ]
  },
  {
   "cell_type": "code",
   "execution_count": 8,
   "id": "6c781e1e-9792-4a8a-ba3b-67b9b78385a2",
   "metadata": {},
   "outputs": [
    {
     "name": "stdout",
     "output_type": "stream",
     "text": [
      "CPU times: user 2.06 ms, sys: 169 µs, total: 2.23 ms\n",
      "Wall time: 2.23 ms\n"
     ]
    }
   ],
   "source": [
    "%%time\n",
    "#create unique list of names\n",
    "UniqueNames = portfolio\n",
    "\n",
    "#create a data frame dictionary to store your data frames\n",
    "DataFrameDict = {elem : pd.DataFrame for elem in UniqueNames}\n",
    "\n",
    "for key in DataFrameDict.keys():\n",
    "    DataFrameDict[key] = financial_info_df[:][financial_info_df.Ticker == key]"
   ]
  },
  {
   "cell_type": "code",
   "execution_count": 9,
   "id": "2d4e09ca-1ca7-4dc6-9481-d917773946cd",
   "metadata": {},
   "outputs": [
    {
     "name": "stdout",
     "output_type": "stream",
     "text": [
      "01/03/2022 MSFT -0.012316419853798721\n",
      "01/03/2022 IBM -0.011672518816754462\n",
      "01/03/2022 SHOP -0.010068259925751333\n"
     ]
    }
   ],
   "source": [
    "for stock in portfolio:\n",
    "    DataFrameDict[stock]['percent_change'] = DataFrameDict[stock]['Adj Close'].pct_change()\n",
    "    \n",
    "    # set notification for threshold\n",
    "    # if greater than 1%\n",
    "    if abs(DataFrameDict[stock]['percent_change'][-1]) > 0.01:\n",
    "        print(today, stock, DataFrameDict[stock]['percent_change'][-1])"
   ]
  },
  {
   "cell_type": "code",
   "execution_count": null,
   "id": "d61c7c00-b19c-428a-859d-d387e87e7f90",
   "metadata": {},
   "outputs": [],
   "source": []
  },
  {
   "cell_type": "code",
   "execution_count": null,
   "id": "b18ddfdc-3bfb-4ea8-bced-c9389fd771f2",
   "metadata": {},
   "outputs": [],
   "source": []
  },
  {
   "cell_type": "code",
   "execution_count": 10,
   "id": "6cb89174-fefe-4ace-96bb-a02e11586501",
   "metadata": {},
   "outputs": [
    {
     "data": {
      "text/plain": [
       "{'MSFT':            Ticker   Adj Close  percent_change\n",
       " Date                                         \n",
       " 2022-02-28   MSFT  298.790009             NaN\n",
       " 2022-03-01   MSFT  295.109985       -0.012316,\n",
       " 'WMT':            Ticker   Adj Close  percent_change\n",
       " Date                                         \n",
       " 2022-02-25    WMT  136.380005             NaN\n",
       " 2022-02-28    WMT  135.160004       -0.008946\n",
       " 2022-03-01    WMT  135.706207        0.004041,\n",
       " 'IBM':            Ticker   Adj Close  percent_change\n",
       " Date                                         \n",
       " 2022-02-28    IBM  122.510002             NaN\n",
       " 2022-03-01    IBM  121.080002       -0.011673,\n",
       " 'SHOP':            Ticker   Adj Close  percent_change\n",
       " Date                                         \n",
       " 2022-02-25   SHOP  676.950012             NaN\n",
       " 2022-02-28   SHOP  694.260010        0.025571\n",
       " 2022-03-01   SHOP  687.270020       -0.010068}"
      ]
     },
     "execution_count": 10,
     "metadata": {},
     "output_type": "execute_result"
    }
   ],
   "source": [
    "DataFrameDict"
   ]
  },
  {
   "cell_type": "code",
   "execution_count": null,
   "id": "839c7844-9874-4180-8ffd-675f6928c71b",
   "metadata": {},
   "outputs": [],
   "source": []
  }
 ],
 "metadata": {
  "kernelspec": {
   "display_name": "Python 3 (ipykernel)",
   "language": "python",
   "name": "python3"
  },
  "language_info": {
   "codemirror_mode": {
    "name": "ipython",
    "version": 3
   },
   "file_extension": ".py",
   "mimetype": "text/x-python",
   "name": "python",
   "nbconvert_exporter": "python",
   "pygments_lexer": "ipython3",
   "version": "3.9.7"
  }
 },
 "nbformat": 4,
 "nbformat_minor": 5
}
