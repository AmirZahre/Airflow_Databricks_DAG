{
 "cells": [
  {
   "cell_type": "code",
   "execution_count": 1,
   "id": "6e72c2ef-23bc-445a-b6ef-05ff3c2802fa",
   "metadata": {},
   "outputs": [],
   "source": [
    "# https://docs.google.com/document/d/1e9oakyEftdHp4zGz2F0WP-_X7GEzEKYGaPvu1SguuCE/edit\n",
    "\n",
    "import pandas as pd\n",
    "import numpy as np\n",
    "import matplotlib as plt\n",
    "from datetime import date as dt\n",
    "\n",
    "\n",
    "# https://pypi.org/project/yfinance/#description\n",
    "import yfinance as yf\n",
    "\n",
    "pd.set_option('display.max_columns', 100)\n",
    "pd.set_option('display.width', 100)"
   ]
  },
  {
   "cell_type": "markdown",
   "id": "beea2361-acad-4701-9f2a-952ec351b5a3",
   "metadata": {},
   "source": [
    "# Transformations:\n",
    "\n",
    "### Transform 1: Group by industry\n",
    "\n",
    "Calculate:\n",
    "* Market value per industry (dollar amount) for the day\n",
    "* % change of market value from previous day for each industry\n",
    "\n",
    "(market value = adjusted close * volume)"
   ]
  },
  {
   "cell_type": "code",
   "execution_count": 2,
   "id": "0dfde1c5-37ec-4cbd-aed6-6139d28a2dd3",
   "metadata": {},
   "outputs": [],
   "source": [
    "portfolio2 = ['MSFT', 'AAPL', 'IBM', 'WMT', 'SHOP', 'LWLG', 'ALB', 'LYV', 'GOOGL', 'TTGT', 'TSLA', 'GME', 'AMZN', 'TGT', 'COST', 'COKE','TPL', 'BX', 'MORN', 'CBRE', \n",
    "            'NVDA', 'AMD', 'NEE']\n",
    "portfolio = ['MSFT', 'AAPL'] # reduced portfolio to make python quicker (pre prod)"
   ]
  },
  {
   "cell_type": "code",
   "execution_count": 3,
   "id": "02ff3ecb-95ed-4656-84a3-d9337699ee18",
   "metadata": {},
   "outputs": [
    {
     "name": "stdout",
     "output_type": "stream",
     "text": [
      "[*********************100%***********************]  2 of 2 completed\n"
     ]
    }
   ],
   "source": [
    "df = yf.download(portfolio,'2022-2-1', group_by='Ticker')\n",
    "df = df.stack(level=0).rename_axis(['Date', 'Ticker']).reset_index(level=1) # Trenton McKinney, https://stackoverflow.com/questions/63107594/how-to-deal-with-multi-level-column-names-downloaded-with-yfinance/63107801#63107801"
   ]
  },
  {
   "cell_type": "markdown",
   "id": "4f05d457-869d-4ad0-8b78-c6228ca7d316",
   "metadata": {},
   "source": [
    "### Pull industry for each ticker (for eventual aggregation) as well as current market cap (updates daily)"
   ]
  },
  {
   "cell_type": "code",
   "execution_count": null,
   "id": "41a89144-83df-4c85-a61d-c4bd823b86b0",
   "metadata": {},
   "outputs": [],
   "source": [
    "# %%time\n",
    "# sector_cap = [['Date', 'Company', 'Sector', 'MarketCap']] # dictionary to be used for market cap data (changes daily)\n",
    "# for stock in portfolio:\n",
    "#     temp = []\n",
    "#     info = yf.Ticker(stock).info # api call for data for respective stock\n",
    "#     temp.append(dt.today().strftime(\"%d/%m/%Y\"))\n",
    "#     temp.append(stock)\n",
    "#     temp.append(info['sector'])\n",
    "#     temp.append(info['marketCap'])   \n",
    "\n",
    "#     sector_cap.append(temp)"
   ]
  },
  {
   "cell_type": "code",
   "execution_count": 40,
   "id": "eda5d830-3913-4d1e-a15f-1e5ae4742e4e",
   "metadata": {},
   "outputs": [
    {
     "name": "stdout",
     "output_type": "stream",
     "text": [
      "CPU times: user 707 ms, sys: 16 ms, total: 723 ms\n",
      "Wall time: 21.1 s\n"
     ]
    },
    {
     "data": {
      "text/plain": [
       "{'MSFT': ['25/02/2022', 'Technology', 2218683269120],\n",
       " 'AAPL': ['25/02/2022', 'Technology', 2693133500416]}"
      ]
     },
     "execution_count": 40,
     "metadata": {},
     "output_type": "execute_result"
    }
   ],
   "source": [
    "%%time\n",
    "\n",
    "# hash the entirety of the api call data for each stock\n",
    "info = {i: yf.Ticker(i).info for i in portfolio}\n",
    "\n",
    "# pull the respective data we'd like from the hash (instead of calling the api twice for each stock)\n",
    "sector_dict = {i: [dt.today().strftime(\"%d/%m/%Y\"), info[i]['sector'], info[i]['marketCap']] for i in portfolio}\n",
    "    \n",
    "\n",
    "sector_dict"
   ]
  },
  {
   "cell_type": "code",
   "execution_count": 137,
   "id": "47b60d29-8a9c-4bb7-b08f-454b8f172a0d",
   "metadata": {},
   "outputs": [
    {
     "data": {
      "text/html": [
       "<div>\n",
       "<style scoped>\n",
       "    .dataframe tbody tr th:only-of-type {\n",
       "        vertical-align: middle;\n",
       "    }\n",
       "\n",
       "    .dataframe tbody tr th {\n",
       "        vertical-align: top;\n",
       "    }\n",
       "\n",
       "    .dataframe thead th {\n",
       "        text-align: right;\n",
       "    }\n",
       "</style>\n",
       "<table border=\"1\" class=\"dataframe\">\n",
       "  <thead>\n",
       "    <tr style=\"text-align: right;\">\n",
       "      <th></th>\n",
       "      <th>0</th>\n",
       "      <th>1</th>\n",
       "      <th>2</th>\n",
       "    </tr>\n",
       "  </thead>\n",
       "  <tbody>\n",
       "    <tr>\n",
       "      <th>MSFT</th>\n",
       "      <td>25/02/2022</td>\n",
       "      <td>Technology</td>\n",
       "      <td>2218683269120</td>\n",
       "    </tr>\n",
       "    <tr>\n",
       "      <th>AAPL</th>\n",
       "      <td>25/02/2022</td>\n",
       "      <td>Technology</td>\n",
       "      <td>2693133500416</td>\n",
       "    </tr>\n",
       "  </tbody>\n",
       "</table>\n",
       "</div>"
      ],
      "text/plain": [
       "               0           1              2\n",
       "MSFT  25/02/2022  Technology  2218683269120\n",
       "AAPL  25/02/2022  Technology  2693133500416"
      ]
     },
     "execution_count": 137,
     "metadata": {},
     "output_type": "execute_result"
    }
   ],
   "source": [
    "sector_df = pd.DataFrame.from_dict(sector_dict,orient='index')\n",
    "sector_df"
   ]
  },
  {
   "cell_type": "code",
   "execution_count": 138,
   "id": "8a401a7f-370b-40d4-abe7-080b2beabedf",
   "metadata": {},
   "outputs": [
    {
     "data": {
      "text/html": [
       "<div>\n",
       "<style scoped>\n",
       "    .dataframe tbody tr th:only-of-type {\n",
       "        vertical-align: middle;\n",
       "    }\n",
       "\n",
       "    .dataframe tbody tr th {\n",
       "        vertical-align: top;\n",
       "    }\n",
       "\n",
       "    .dataframe thead th {\n",
       "        text-align: right;\n",
       "    }\n",
       "</style>\n",
       "<table border=\"1\" class=\"dataframe\">\n",
       "  <thead>\n",
       "    <tr style=\"text-align: right;\">\n",
       "      <th></th>\n",
       "      <th>company</th>\n",
       "      <th>sector</th>\n",
       "      <th>market_cap</th>\n",
       "    </tr>\n",
       "  </thead>\n",
       "  <tbody>\n",
       "    <tr>\n",
       "      <th>25/02/2022</th>\n",
       "      <td>MSFT</td>\n",
       "      <td>Technology</td>\n",
       "      <td>2218683269120</td>\n",
       "    </tr>\n",
       "    <tr>\n",
       "      <th>25/02/2022</th>\n",
       "      <td>AAPL</td>\n",
       "      <td>Technology</td>\n",
       "      <td>2693133500416</td>\n",
       "    </tr>\n",
       "  </tbody>\n",
       "</table>\n",
       "</div>"
      ],
      "text/plain": [
       "           company      sector     market_cap\n",
       "25/02/2022    MSFT  Technology  2218683269120\n",
       "25/02/2022    AAPL  Technology  2693133500416"
      ]
     },
     "execution_count": 138,
     "metadata": {},
     "output_type": "execute_result"
    }
   ],
   "source": [
    "sector_df.insert(1, 'company', sector_df.index)\n",
    "\n",
    "\n",
    "sector_df.index = sector_df.iloc[:,0]\n",
    "sector_df.drop(sector_df.columns[0], axis=1, inplace=True)\n",
    "sector_df.index.name = None\n",
    "pd.DataFrame(sector_df).rename(columns={1: 'sector'}, inplace=True)\n",
    "pd.DataFrame(sector_df).rename(columns={2: 'market_cap'}, inplace=True)\n",
    "\n",
    "\n",
    "sector_df"
   ]
  },
  {
   "cell_type": "code",
   "execution_count": 42,
   "id": "1173128e-dd80-4a24-a63f-cea094f9410a",
   "metadata": {},
   "outputs": [],
   "source": [
    "sector_df['company'] = sector_df.index"
   ]
  },
  {
   "cell_type": "code",
   "execution_count": 68,
   "id": "2502e799-fc69-4695-a273-dc6b1ac8b1d3",
   "metadata": {},
   "outputs": [],
   "source": [
    "sector_df.reset_index(drop=True, inplace=True)"
   ]
  },
  {
   "cell_type": "code",
   "execution_count": 69,
   "id": "ef182450-b0f7-403c-bf63-c7bfa13240df",
   "metadata": {},
   "outputs": [
    {
     "data": {
      "text/html": [
       "<div>\n",
       "<style scoped>\n",
       "    .dataframe tbody tr th:only-of-type {\n",
       "        vertical-align: middle;\n",
       "    }\n",
       "\n",
       "    .dataframe tbody tr th {\n",
       "        vertical-align: top;\n",
       "    }\n",
       "\n",
       "    .dataframe thead th {\n",
       "        text-align: right;\n",
       "    }\n",
       "</style>\n",
       "<table border=\"1\" class=\"dataframe\">\n",
       "  <thead>\n",
       "    <tr style=\"text-align: right;\">\n",
       "      <th></th>\n",
       "      <th>0</th>\n",
       "      <th>1</th>\n",
       "      <th>2</th>\n",
       "      <th>company</th>\n",
       "    </tr>\n",
       "  </thead>\n",
       "  <tbody>\n",
       "    <tr>\n",
       "      <th>0</th>\n",
       "      <td>25/02/2022</td>\n",
       "      <td>Technology</td>\n",
       "      <td>2218683269120</td>\n",
       "      <td>MSFT</td>\n",
       "    </tr>\n",
       "    <tr>\n",
       "      <th>1</th>\n",
       "      <td>25/02/2022</td>\n",
       "      <td>Technology</td>\n",
       "      <td>2693133500416</td>\n",
       "      <td>AAPL</td>\n",
       "    </tr>\n",
       "  </tbody>\n",
       "</table>\n",
       "</div>"
      ],
      "text/plain": [
       "            0           1              2 company\n",
       "0  25/02/2022  Technology  2218683269120    MSFT\n",
       "1  25/02/2022  Technology  2693133500416    AAPL"
      ]
     },
     "execution_count": 69,
     "metadata": {},
     "output_type": "execute_result"
    }
   ],
   "source": [
    "sector_df"
   ]
  },
  {
   "cell_type": "code",
   "execution_count": 10,
   "id": "570eac98-a6cf-44d8-85f5-c90431664209",
   "metadata": {},
   "outputs": [],
   "source": [
    "# mkt_cap_df2 = mkt_cap_df"
   ]
  },
  {
   "cell_type": "code",
   "execution_count": 11,
   "id": "d7b96f3e-a8e2-446e-88b8-3e6bd74c3f4a",
   "metadata": {},
   "outputs": [],
   "source": [
    "# # timestamp the market capitalization table\n",
    "# mkt_cap_df2['Date'] = dt.today().strftime(\"%m/%d/%y\")"
   ]
  },
  {
   "cell_type": "code",
   "execution_count": 12,
   "id": "020a9752-a462-4abc-be6c-f0e6337b555b",
   "metadata": {},
   "outputs": [],
   "source": [
    "# mkt_cap_df3 = mkt_cap_df2\n",
    "\n",
    "\n",
    "# mkt_cap_df3 = pd.merge(mkt_cap_df2, sector_df, left_index=True, right_index=True) # Combine sector table with daily financial info table\n"
   ]
  },
  {
   "cell_type": "code",
   "execution_count": 13,
   "id": "115f4ca7-84dd-4c24-9fad-79bfb7aaaa96",
   "metadata": {},
   "outputs": [],
   "source": [
    "# mkt_cap_df3"
   ]
  },
  {
   "cell_type": "code",
   "execution_count": null,
   "id": "39c65bbf-5e10-400f-b1f6-6490b3f00cd0",
   "metadata": {},
   "outputs": [],
   "source": []
  },
  {
   "cell_type": "code",
   "execution_count": 14,
   "id": "ecbed6c6-cc1d-4650-85ae-4b91705977cc",
   "metadata": {},
   "outputs": [],
   "source": [
    "# # merge Sector df with the core financial info dataframe\n",
    "# df_merged = pd.merge(df, sector_df, left_on='Ticker', right_index=True) # Combine sector table with daily financial info table\n",
    "\n",
    "# # shift column 'Sector' to second position\n",
    "# first_column = df_merged.pop('Sector')\n",
    "\n",
    "# # insert column using insert(position,column_name,first_column) function\n",
    "# df_merged.insert(1, 'Sector', first_column)"
   ]
  },
  {
   "cell_type": "code",
   "execution_count": 15,
   "id": "177ef27e-9147-48ae-941d-9d2879bd10bd",
   "metadata": {},
   "outputs": [],
   "source": [
    "# df_merged"
   ]
  },
  {
   "cell_type": "code",
   "execution_count": null,
   "id": "30bf4799-cda3-4fa8-9c8d-afb82bc7086d",
   "metadata": {},
   "outputs": [],
   "source": []
  },
  {
   "cell_type": "code",
   "execution_count": null,
   "id": "e372ab25-913b-4cd0-95ea-094db4e0bbbb",
   "metadata": {},
   "outputs": [],
   "source": []
  },
  {
   "cell_type": "code",
   "execution_count": null,
   "id": "3dac8a54-128d-4f68-8693-753ff88689e8",
   "metadata": {},
   "outputs": [],
   "source": []
  },
  {
   "cell_type": "markdown",
   "id": "e3c140a6-d856-4d77-a3c6-ed9e1486f1f2",
   "metadata": {},
   "source": [
    "### Transform 1: % change of previous day close price vs current day close price"
   ]
  },
  {
   "cell_type": "code",
   "execution_count": 16,
   "id": "c22be1e9-90eb-42a3-aa08-4209890dd905",
   "metadata": {},
   "outputs": [],
   "source": [
    "# # Below we'll calculate the percent change of Adj Close price for each stock and, if the price change for one exceeds a predermined threshold, an email notification will be sent out.\n",
    "# last_two_days = df['Adj Close'].iloc[-2:].pct_change()\n",
    "# percent_change = last_two_days.iloc[-1]\n",
    "# percent_change"
   ]
  },
  {
   "cell_type": "markdown",
   "id": "da28bf7d-a554-4365-85c9-bb2bfeb94c0a",
   "metadata": {},
   "source": [
    "### Transform 1: % change of previous day close price vs current day close price"
   ]
  },
  {
   "cell_type": "code",
   "execution_count": null,
   "id": "b8ceed34-7a83-4888-a617-c75ca603617d",
   "metadata": {},
   "outputs": [],
   "source": []
  },
  {
   "cell_type": "code",
   "execution_count": null,
   "id": "d2f81020-2994-492e-8516-110ae051d9a6",
   "metadata": {},
   "outputs": [],
   "source": []
  },
  {
   "cell_type": "code",
   "execution_count": null,
   "id": "f5157bd1-0d49-4dc7-8a6c-cd114c2a95c1",
   "metadata": {},
   "outputs": [],
   "source": []
  },
  {
   "cell_type": "code",
   "execution_count": null,
   "id": "b97bcc56-f3ea-428f-ac36-17bbbff51ae4",
   "metadata": {},
   "outputs": [],
   "source": []
  }
 ],
 "metadata": {
  "kernelspec": {
   "display_name": "Python 3 (ipykernel)",
   "language": "python",
   "name": "python3"
  },
  "language_info": {
   "codemirror_mode": {
    "name": "ipython",
    "version": 3
   },
   "file_extension": ".py",
   "mimetype": "text/x-python",
   "name": "python",
   "nbconvert_exporter": "python",
   "pygments_lexer": "ipython3",
   "version": "3.9.7"
  }
 },
 "nbformat": 4,
 "nbformat_minor": 5
}
